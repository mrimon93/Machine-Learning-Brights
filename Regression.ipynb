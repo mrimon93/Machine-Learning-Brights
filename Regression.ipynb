{
  "nbformat": 4,
  "nbformat_minor": 0,
  "metadata": {
    "colab": {
      "provenance": []
    },
    "kernelspec": {
      "name": "python3",
      "display_name": "Python 3"
    },
    "language_info": {
      "name": "python"
    }
  },
  "cells": [
    {
      "cell_type": "markdown",
      "source": [
        "Hello and Welcome to the Linear Regression part of Machine Learning module in Data-Enineer 2022/2023.\n",
        "\n",
        "Here we are training, predicting and plotting data from boston.csv file.\n",
        "\n",
        "---\n",
        "\n",
        "1.   There is a better way to fit the data to the regression line, right now all data is to spread out. \n",
        "Reason: Maybe it is because of the data is spread out so it makes its best to fit a line for the data \n",
        "\n",
        "Potential Solution: Principal component analysis (PCA) import PCA |\n",
        "Link: https://www.youtube.com/watch?v=QdBy02ExhGI"
      ],
      "metadata": {
        "id": "vCeLnHjCMOBi"
      }
    },
    {
      "cell_type": "code",
      "execution_count": null,
      "metadata": {
        "id": "VBZM9c69o5pA"
      },
      "outputs": [],
      "source": [
        "#Importing necessary package for Regression\n",
        "import pandas as pd \n",
        "import numpy as np\n",
        "import matplotlib as plt\n",
        "from matplotlib import pyplot as plt\n",
        "from sklearn.model_selection import train_test_split\n",
        "from sklearn.linear_model import LinearRegression\n",
        "from sklearn import metrics\n",
        "from sklearn.metrics import mean_squared_error, r2_score\n",
        "from sklearn import linear_model"
      ]
    },
    {
      "cell_type": "code",
      "source": [
        "info= pd.read_csv('boston.csv')\n",
        "info.head()"
      ],
      "metadata": {
        "colab": {
          "base_uri": "https://localhost:8080/",
          "height": 206
        },
        "id": "GBh_6q6bBEwv",
        "outputId": "9c3feb69-2588-489d-cda8-bcfbb6346e35"
      },
      "execution_count": 36,
      "outputs": [
        {
          "output_type": "execute_result",
          "data": {
            "text/plain": [
              "      CRIM  INDUS    NOX     RM        AGE     DIS  TAX         PT  \\\n",
              "0  0.00632   2.31  0.538  6.575  65.199997  4.0900  296  15.300000   \n",
              "1  0.02731   7.07  0.469  6.421  78.900002  4.9671  242  17.799999   \n",
              "2  0.02729   7.07  0.469  7.185  61.099998  4.9671  242  17.799999   \n",
              "3  0.03237   2.18  0.458  6.998  45.799999  6.0622  222  18.700001   \n",
              "4  0.06905   2.18  0.458  7.147  54.200001  6.0622  222  18.700001   \n",
              "\n",
              "            B         MV  \n",
              "0  396.899994  24.000000  \n",
              "1  396.899994  21.600000  \n",
              "2  392.829987  34.700001  \n",
              "3  394.630005  33.400002  \n",
              "4  396.899994  36.200001  "
            ],
            "text/html": [
              "\n",
              "  <div id=\"df-ce19689e-09c3-4353-b8f6-f208956b0f0d\">\n",
              "    <div class=\"colab-df-container\">\n",
              "      <div>\n",
              "<style scoped>\n",
              "    .dataframe tbody tr th:only-of-type {\n",
              "        vertical-align: middle;\n",
              "    }\n",
              "\n",
              "    .dataframe tbody tr th {\n",
              "        vertical-align: top;\n",
              "    }\n",
              "\n",
              "    .dataframe thead th {\n",
              "        text-align: right;\n",
              "    }\n",
              "</style>\n",
              "<table border=\"1\" class=\"dataframe\">\n",
              "  <thead>\n",
              "    <tr style=\"text-align: right;\">\n",
              "      <th></th>\n",
              "      <th>CRIM</th>\n",
              "      <th>INDUS</th>\n",
              "      <th>NOX</th>\n",
              "      <th>RM</th>\n",
              "      <th>AGE</th>\n",
              "      <th>DIS</th>\n",
              "      <th>TAX</th>\n",
              "      <th>PT</th>\n",
              "      <th>B</th>\n",
              "      <th>MV</th>\n",
              "    </tr>\n",
              "  </thead>\n",
              "  <tbody>\n",
              "    <tr>\n",
              "      <th>0</th>\n",
              "      <td>0.00632</td>\n",
              "      <td>2.31</td>\n",
              "      <td>0.538</td>\n",
              "      <td>6.575</td>\n",
              "      <td>65.199997</td>\n",
              "      <td>4.0900</td>\n",
              "      <td>296</td>\n",
              "      <td>15.300000</td>\n",
              "      <td>396.899994</td>\n",
              "      <td>24.000000</td>\n",
              "    </tr>\n",
              "    <tr>\n",
              "      <th>1</th>\n",
              "      <td>0.02731</td>\n",
              "      <td>7.07</td>\n",
              "      <td>0.469</td>\n",
              "      <td>6.421</td>\n",
              "      <td>78.900002</td>\n",
              "      <td>4.9671</td>\n",
              "      <td>242</td>\n",
              "      <td>17.799999</td>\n",
              "      <td>396.899994</td>\n",
              "      <td>21.600000</td>\n",
              "    </tr>\n",
              "    <tr>\n",
              "      <th>2</th>\n",
              "      <td>0.02729</td>\n",
              "      <td>7.07</td>\n",
              "      <td>0.469</td>\n",
              "      <td>7.185</td>\n",
              "      <td>61.099998</td>\n",
              "      <td>4.9671</td>\n",
              "      <td>242</td>\n",
              "      <td>17.799999</td>\n",
              "      <td>392.829987</td>\n",
              "      <td>34.700001</td>\n",
              "    </tr>\n",
              "    <tr>\n",
              "      <th>3</th>\n",
              "      <td>0.03237</td>\n",
              "      <td>2.18</td>\n",
              "      <td>0.458</td>\n",
              "      <td>6.998</td>\n",
              "      <td>45.799999</td>\n",
              "      <td>6.0622</td>\n",
              "      <td>222</td>\n",
              "      <td>18.700001</td>\n",
              "      <td>394.630005</td>\n",
              "      <td>33.400002</td>\n",
              "    </tr>\n",
              "    <tr>\n",
              "      <th>4</th>\n",
              "      <td>0.06905</td>\n",
              "      <td>2.18</td>\n",
              "      <td>0.458</td>\n",
              "      <td>7.147</td>\n",
              "      <td>54.200001</td>\n",
              "      <td>6.0622</td>\n",
              "      <td>222</td>\n",
              "      <td>18.700001</td>\n",
              "      <td>396.899994</td>\n",
              "      <td>36.200001</td>\n",
              "    </tr>\n",
              "  </tbody>\n",
              "</table>\n",
              "</div>\n",
              "      <button class=\"colab-df-convert\" onclick=\"convertToInteractive('df-ce19689e-09c3-4353-b8f6-f208956b0f0d')\"\n",
              "              title=\"Convert this dataframe to an interactive table.\"\n",
              "              style=\"display:none;\">\n",
              "        \n",
              "  <svg xmlns=\"http://www.w3.org/2000/svg\" height=\"24px\"viewBox=\"0 0 24 24\"\n",
              "       width=\"24px\">\n",
              "    <path d=\"M0 0h24v24H0V0z\" fill=\"none\"/>\n",
              "    <path d=\"M18.56 5.44l.94 2.06.94-2.06 2.06-.94-2.06-.94-.94-2.06-.94 2.06-2.06.94zm-11 1L8.5 8.5l.94-2.06 2.06-.94-2.06-.94L8.5 2.5l-.94 2.06-2.06.94zm10 10l.94 2.06.94-2.06 2.06-.94-2.06-.94-.94-2.06-.94 2.06-2.06.94z\"/><path d=\"M17.41 7.96l-1.37-1.37c-.4-.4-.92-.59-1.43-.59-.52 0-1.04.2-1.43.59L10.3 9.45l-7.72 7.72c-.78.78-.78 2.05 0 2.83L4 21.41c.39.39.9.59 1.41.59.51 0 1.02-.2 1.41-.59l7.78-7.78 2.81-2.81c.8-.78.8-2.07 0-2.86zM5.41 20L4 18.59l7.72-7.72 1.47 1.35L5.41 20z\"/>\n",
              "  </svg>\n",
              "      </button>\n",
              "      \n",
              "  <style>\n",
              "    .colab-df-container {\n",
              "      display:flex;\n",
              "      flex-wrap:wrap;\n",
              "      gap: 12px;\n",
              "    }\n",
              "\n",
              "    .colab-df-convert {\n",
              "      background-color: #E8F0FE;\n",
              "      border: none;\n",
              "      border-radius: 50%;\n",
              "      cursor: pointer;\n",
              "      display: none;\n",
              "      fill: #1967D2;\n",
              "      height: 32px;\n",
              "      padding: 0 0 0 0;\n",
              "      width: 32px;\n",
              "    }\n",
              "\n",
              "    .colab-df-convert:hover {\n",
              "      background-color: #E2EBFA;\n",
              "      box-shadow: 0px 1px 2px rgba(60, 64, 67, 0.3), 0px 1px 3px 1px rgba(60, 64, 67, 0.15);\n",
              "      fill: #174EA6;\n",
              "    }\n",
              "\n",
              "    [theme=dark] .colab-df-convert {\n",
              "      background-color: #3B4455;\n",
              "      fill: #D2E3FC;\n",
              "    }\n",
              "\n",
              "    [theme=dark] .colab-df-convert:hover {\n",
              "      background-color: #434B5C;\n",
              "      box-shadow: 0px 1px 3px 1px rgba(0, 0, 0, 0.15);\n",
              "      filter: drop-shadow(0px 1px 2px rgba(0, 0, 0, 0.3));\n",
              "      fill: #FFFFFF;\n",
              "    }\n",
              "  </style>\n",
              "\n",
              "      <script>\n",
              "        const buttonEl =\n",
              "          document.querySelector('#df-ce19689e-09c3-4353-b8f6-f208956b0f0d button.colab-df-convert');\n",
              "        buttonEl.style.display =\n",
              "          google.colab.kernel.accessAllowed ? 'block' : 'none';\n",
              "\n",
              "        async function convertToInteractive(key) {\n",
              "          const element = document.querySelector('#df-ce19689e-09c3-4353-b8f6-f208956b0f0d');\n",
              "          const dataTable =\n",
              "            await google.colab.kernel.invokeFunction('convertToInteractive',\n",
              "                                                     [key], {});\n",
              "          if (!dataTable) return;\n",
              "\n",
              "          const docLinkHtml = 'Like what you see? Visit the ' +\n",
              "            '<a target=\"_blank\" href=https://colab.research.google.com/notebooks/data_table.ipynb>data table notebook</a>'\n",
              "            + ' to learn more about interactive tables.';\n",
              "          element.innerHTML = '';\n",
              "          dataTable['output_type'] = 'display_data';\n",
              "          await google.colab.output.renderOutput(dataTable, element);\n",
              "          const docLink = document.createElement('div');\n",
              "          docLink.innerHTML = docLinkHtml;\n",
              "          element.appendChild(docLink);\n",
              "        }\n",
              "      </script>\n",
              "    </div>\n",
              "  </div>\n",
              "  "
            ]
          },
          "metadata": {},
          "execution_count": 36
        }
      ]
    },
    {
      "cell_type": "code",
      "source": [
        "#Alawys remind to rerun the line above to see the result you want to see\n",
        "#We want to make sure that we have AGE and Tax Columns left for the linear regression\n",
        "#Probably becaue we want y = 2 \n",
        "#I do not think that we need to do this but this part is optional\n",
        "info.drop(['CRIM'],axis=1,inplace=True)\n",
        "info.drop(['INDUS'],axis=1,inplace=True)\n",
        "info.drop(['NOX'],axis=1,inplace=True)\n",
        "info.drop(['RM'],axis=1,inplace=True)\n",
        "info.drop(['DIS'],axis=1,inplace=True)\n",
        "info.drop(['PT'],axis=1,inplace=True)\n",
        "info.drop(['B'],axis=1,inplace=True)\n",
        "info.drop(['MV'],axis=1,inplace=True)"
      ],
      "metadata": {
        "id": "WRWmW2YhBlYG"
      },
      "execution_count": 48,
      "outputs": []
    },
    {
      "cell_type": "code",
      "source": [
        "info.head()"
      ],
      "metadata": {
        "colab": {
          "base_uri": "https://localhost:8080/",
          "height": 206
        },
        "id": "RlhAqbv3CBaV",
        "outputId": "fe620a20-3356-4834-f7e2-d8d3059fe27f"
      },
      "execution_count": 49,
      "outputs": [
        {
          "output_type": "execute_result",
          "data": {
            "text/plain": [
              "         AGE  TAX\n",
              "0  65.199997  296\n",
              "1  78.900002  242\n",
              "2  61.099998  242\n",
              "3  45.799999  222\n",
              "4  54.200001  222"
            ],
            "text/html": [
              "\n",
              "  <div id=\"df-c060b942-db80-4c5d-bcc7-4c2aef58f865\">\n",
              "    <div class=\"colab-df-container\">\n",
              "      <div>\n",
              "<style scoped>\n",
              "    .dataframe tbody tr th:only-of-type {\n",
              "        vertical-align: middle;\n",
              "    }\n",
              "\n",
              "    .dataframe tbody tr th {\n",
              "        vertical-align: top;\n",
              "    }\n",
              "\n",
              "    .dataframe thead th {\n",
              "        text-align: right;\n",
              "    }\n",
              "</style>\n",
              "<table border=\"1\" class=\"dataframe\">\n",
              "  <thead>\n",
              "    <tr style=\"text-align: right;\">\n",
              "      <th></th>\n",
              "      <th>AGE</th>\n",
              "      <th>TAX</th>\n",
              "    </tr>\n",
              "  </thead>\n",
              "  <tbody>\n",
              "    <tr>\n",
              "      <th>0</th>\n",
              "      <td>65.199997</td>\n",
              "      <td>296</td>\n",
              "    </tr>\n",
              "    <tr>\n",
              "      <th>1</th>\n",
              "      <td>78.900002</td>\n",
              "      <td>242</td>\n",
              "    </tr>\n",
              "    <tr>\n",
              "      <th>2</th>\n",
              "      <td>61.099998</td>\n",
              "      <td>242</td>\n",
              "    </tr>\n",
              "    <tr>\n",
              "      <th>3</th>\n",
              "      <td>45.799999</td>\n",
              "      <td>222</td>\n",
              "    </tr>\n",
              "    <tr>\n",
              "      <th>4</th>\n",
              "      <td>54.200001</td>\n",
              "      <td>222</td>\n",
              "    </tr>\n",
              "  </tbody>\n",
              "</table>\n",
              "</div>\n",
              "      <button class=\"colab-df-convert\" onclick=\"convertToInteractive('df-c060b942-db80-4c5d-bcc7-4c2aef58f865')\"\n",
              "              title=\"Convert this dataframe to an interactive table.\"\n",
              "              style=\"display:none;\">\n",
              "        \n",
              "  <svg xmlns=\"http://www.w3.org/2000/svg\" height=\"24px\"viewBox=\"0 0 24 24\"\n",
              "       width=\"24px\">\n",
              "    <path d=\"M0 0h24v24H0V0z\" fill=\"none\"/>\n",
              "    <path d=\"M18.56 5.44l.94 2.06.94-2.06 2.06-.94-2.06-.94-.94-2.06-.94 2.06-2.06.94zm-11 1L8.5 8.5l.94-2.06 2.06-.94-2.06-.94L8.5 2.5l-.94 2.06-2.06.94zm10 10l.94 2.06.94-2.06 2.06-.94-2.06-.94-.94-2.06-.94 2.06-2.06.94z\"/><path d=\"M17.41 7.96l-1.37-1.37c-.4-.4-.92-.59-1.43-.59-.52 0-1.04.2-1.43.59L10.3 9.45l-7.72 7.72c-.78.78-.78 2.05 0 2.83L4 21.41c.39.39.9.59 1.41.59.51 0 1.02-.2 1.41-.59l7.78-7.78 2.81-2.81c.8-.78.8-2.07 0-2.86zM5.41 20L4 18.59l7.72-7.72 1.47 1.35L5.41 20z\"/>\n",
              "  </svg>\n",
              "      </button>\n",
              "      \n",
              "  <style>\n",
              "    .colab-df-container {\n",
              "      display:flex;\n",
              "      flex-wrap:wrap;\n",
              "      gap: 12px;\n",
              "    }\n",
              "\n",
              "    .colab-df-convert {\n",
              "      background-color: #E8F0FE;\n",
              "      border: none;\n",
              "      border-radius: 50%;\n",
              "      cursor: pointer;\n",
              "      display: none;\n",
              "      fill: #1967D2;\n",
              "      height: 32px;\n",
              "      padding: 0 0 0 0;\n",
              "      width: 32px;\n",
              "    }\n",
              "\n",
              "    .colab-df-convert:hover {\n",
              "      background-color: #E2EBFA;\n",
              "      box-shadow: 0px 1px 2px rgba(60, 64, 67, 0.3), 0px 1px 3px 1px rgba(60, 64, 67, 0.15);\n",
              "      fill: #174EA6;\n",
              "    }\n",
              "\n",
              "    [theme=dark] .colab-df-convert {\n",
              "      background-color: #3B4455;\n",
              "      fill: #D2E3FC;\n",
              "    }\n",
              "\n",
              "    [theme=dark] .colab-df-convert:hover {\n",
              "      background-color: #434B5C;\n",
              "      box-shadow: 0px 1px 3px 1px rgba(0, 0, 0, 0.15);\n",
              "      filter: drop-shadow(0px 1px 2px rgba(0, 0, 0, 0.3));\n",
              "      fill: #FFFFFF;\n",
              "    }\n",
              "  </style>\n",
              "\n",
              "      <script>\n",
              "        const buttonEl =\n",
              "          document.querySelector('#df-c060b942-db80-4c5d-bcc7-4c2aef58f865 button.colab-df-convert');\n",
              "        buttonEl.style.display =\n",
              "          google.colab.kernel.accessAllowed ? 'block' : 'none';\n",
              "\n",
              "        async function convertToInteractive(key) {\n",
              "          const element = document.querySelector('#df-c060b942-db80-4c5d-bcc7-4c2aef58f865');\n",
              "          const dataTable =\n",
              "            await google.colab.kernel.invokeFunction('convertToInteractive',\n",
              "                                                     [key], {});\n",
              "          if (!dataTable) return;\n",
              "\n",
              "          const docLinkHtml = 'Like what you see? Visit the ' +\n",
              "            '<a target=\"_blank\" href=https://colab.research.google.com/notebooks/data_table.ipynb>data table notebook</a>'\n",
              "            + ' to learn more about interactive tables.';\n",
              "          element.innerHTML = '';\n",
              "          dataTable['output_type'] = 'display_data';\n",
              "          await google.colab.output.renderOutput(dataTable, element);\n",
              "          const docLink = document.createElement('div');\n",
              "          docLink.innerHTML = docLinkHtml;\n",
              "          element.appendChild(docLink);\n",
              "        }\n",
              "      </script>\n",
              "    </div>\n",
              "  </div>\n",
              "  "
            ]
          },
          "metadata": {},
          "execution_count": 49
        }
      ]
    },
    {
      "cell_type": "code",
      "source": [
        "#See the shape of the table \n",
        "info.shape\n"
      ],
      "metadata": {
        "colab": {
          "base_uri": "https://localhost:8080/"
        },
        "id": "138nlCTpCXRn",
        "outputId": "c668ad49-2990-4a25-df90-3205f6c4fd02"
      },
      "execution_count": null,
      "outputs": [
        {
          "output_type": "execute_result",
          "data": {
            "text/plain": [
              "(506, 2)"
            ]
          },
          "metadata": {},
          "execution_count": 27
        }
      ]
    },
    {
      "cell_type": "code",
      "source": [
        "info.columns"
      ],
      "metadata": {
        "colab": {
          "base_uri": "https://localhost:8080/"
        },
        "id": "cJ_PK2c-Cniy",
        "outputId": "c6c4b0c2-d670-4b0d-f5ad-2b20641e8bd8"
      },
      "execution_count": null,
      "outputs": [
        {
          "output_type": "execute_result",
          "data": {
            "text/plain": [
              "Index(['YearsExperience', 'Salary'], dtype='object')"
            ]
          },
          "metadata": {},
          "execution_count": 33
        }
      ]
    },
    {
      "cell_type": "code",
      "source": [
        "X = info[['AGE']]\n",
        "y = info[['TAX']]"
      ],
      "metadata": {
        "id": "tuuLmEfsCs85"
      },
      "execution_count": 38,
      "outputs": []
    },
    {
      "cell_type": "code",
      "source": [
        "X_train, X_test, y_train, y_test = train_test_split(X,y , random_state=7)"
      ],
      "metadata": {
        "id": "-EoCrWZgC2Fd"
      },
      "execution_count": 39,
      "outputs": []
    },
    {
      "cell_type": "code",
      "source": [
        "print(X_train.shape)\n",
        "print(y_train.shape)\n",
        "print(X_test.shape)\n",
        "print(y_test.shape)"
      ],
      "metadata": {
        "colab": {
          "base_uri": "https://localhost:8080/"
        },
        "id": "dLlG5VOkDDAX",
        "outputId": "0436aa9a-75da-4e11-f7c7-b376005d67ff"
      },
      "execution_count": 40,
      "outputs": [
        {
          "output_type": "stream",
          "name": "stdout",
          "text": [
            "(379, 1)\n",
            "(379, 1)\n",
            "(127, 1)\n",
            "(127, 1)\n"
          ]
        }
      ]
    },
    {
      "cell_type": "code",
      "source": [
        "\"\"\"\n",
        "\n",
        "# Create Linear Regression and fiting the model using the training sets\n",
        "lr=LinearRegression()\n",
        "lr.fit(X_train,y_train)\n",
        "\n",
        "\"\"\""
      ],
      "metadata": {
        "id": "my0bnhD1c96R",
        "colab": {
          "base_uri": "https://localhost:8080/",
          "height": 35
        },
        "outputId": "49c11da9-be01-46d7-b6a7-1d9dc2943b0e"
      },
      "execution_count": 41,
      "outputs": [
        {
          "output_type": "execute_result",
          "data": {
            "text/plain": [
              "'\\n\\n# Create Linear Regression and fiting the model using the training sets\\nlr=LinearRegression()\\nlr.fit(X_train,y_train)\\n\\n'"
            ],
            "application/vnd.google.colaboratory.intrinsic+json": {
              "type": "string"
            }
          },
          "metadata": {},
          "execution_count": 41
        }
      ]
    },
    {
      "cell_type": "code",
      "source": [
        "# Create linear regression object\n",
        "regr = linear_model.LinearRegression()\n"
      ],
      "metadata": {
        "id": "sCfxU6LWDFzm"
      },
      "execution_count": 42,
      "outputs": []
    },
    {
      "cell_type": "code",
      "source": [
        "# Train the model using the training sets\n",
        "regr.fit(X_train,y_train)"
      ],
      "metadata": {
        "colab": {
          "base_uri": "https://localhost:8080/"
        },
        "id": "511BlM8lcia2",
        "outputId": "9eec7637-bde0-4866-8829-dc18205a5b2e"
      },
      "execution_count": 43,
      "outputs": [
        {
          "output_type": "execute_result",
          "data": {
            "text/plain": [
              "LinearRegression()"
            ]
          },
          "metadata": {},
          "execution_count": 43
        }
      ]
    },
    {
      "cell_type": "code",
      "source": [
        "y_pred=regr.predict(X_test)"
      ],
      "metadata": {
        "id": "Z08zT2CLDTDT"
      },
      "execution_count": 44,
      "outputs": []
    },
    {
      "cell_type": "code",
      "source": [
        "y_pred"
      ],
      "metadata": {
        "colab": {
          "base_uri": "https://localhost:8080/"
        },
        "id": "YvICzt6RbzbP",
        "outputId": "b38e9dd6-f60a-4cae-87b9-6ed0e5441a10"
      },
      "execution_count": 45,
      "outputs": [
        {
          "output_type": "execute_result",
          "data": {
            "text/plain": [
              "array([[464.00718692],\n",
              "       [375.62528309],\n",
              "       [330.87139773],\n",
              "       [381.81764764],\n",
              "       [489.3395785 ],\n",
              "       [478.0807378 ],\n",
              "       [455.56305639],\n",
              "       [444.5856824 ],\n",
              "       [257.9703999 ],\n",
              "       [446.27450422],\n",
              "       [489.3395785 ],\n",
              "       [432.76390827],\n",
              "       [489.3395785 ],\n",
              "       [464.57012037],\n",
              "       [304.13165106],\n",
              "       [418.9718241 ],\n",
              "       [321.58285632],\n",
              "       [257.68893316],\n",
              "       [438.67479533],\n",
              "       [326.93079921],\n",
              "       [471.32542907],\n",
              "       [464.00718692],\n",
              "       [252.05951013],\n",
              "       [405.46120667],\n",
              "       [477.23631616],\n",
              "       [463.44425347],\n",
              "       [410.24622686],\n",
              "       [459.2221882 ],\n",
              "       [298.78369745],\n",
              "       [272.32542286],\n",
              "       [464.28865363],\n",
              "       [341.28582755],\n",
              "       [385.4767687 ],\n",
              "       [451.34099113],\n",
              "       [355.92231185],\n",
              "       [413.62387046],\n",
              "       [406.58709502],\n",
              "       [468.51071889],\n",
              "       [373.37351711],\n",
              "       [360.70732132],\n",
              "       [393.92089923],\n",
              "       [470.48102891],\n",
              "       [484.2730916 ],\n",
              "       [408.55740504],\n",
              "       [445.43010406],\n",
              "       [476.95484942],\n",
              "       [440.92657206],\n",
              "       [436.7045068 ],\n",
              "       [440.36361713],\n",
              "       [489.3395785 ],\n",
              "       [351.41877988],\n",
              "       [253.74833463],\n",
              "       [489.3395785 ],\n",
              "       [441.2080388 ],\n",
              "       [470.48102891],\n",
              "       [442.61539389],\n",
              "       [456.12598984],\n",
              "       [391.95061072],\n",
              "       [385.19530199],\n",
              "       [326.36785501],\n",
              "       [327.77521009],\n",
              "       [473.85867253],\n",
              "       [394.20236597],\n",
              "       [372.5291062 ],\n",
              "       [466.25896364],\n",
              "       [297.65781445],\n",
              "       [489.3395785 ],\n",
              "       [483.42869144],\n",
              "       [348.32260299],\n",
              "       [440.08215042],\n",
              "       [298.50223071],\n",
              "       [467.94778547],\n",
              "       [269.51071269],\n",
              "       [409.4018052 ],\n",
              "       [478.36220451],\n",
              "       [463.16276528],\n",
              "       [472.73278416],\n",
              "       [465.97747546],\n",
              "       [286.96191792],\n",
              "       [489.3395785 ],\n",
              "       [487.36928996],\n",
              "       [267.25894669],\n",
              "       [389.9803007 ],\n",
              "       [460.06658836],\n",
              "       [229.82330081],\n",
              "       [423.19388937],\n",
              "       [308.35371632],\n",
              "       [458.37776657],\n",
              "       [379.84734835],\n",
              "       [290.05810018],\n",
              "       [489.3395785 ],\n",
              "       [255.71863389],\n",
              "       [459.50365494],\n",
              "       [355.64084514],\n",
              "       [224.75682196],\n",
              "       [426.85302118],\n",
              "       [259.65922707],\n",
              "       [489.3395785 ],\n",
              "       [483.42869144],\n",
              "       [302.1613518 ],\n",
              "       [484.2730916 ],\n",
              "       [462.03689838],\n",
              "       [262.75540933],\n",
              "       [461.19247674],\n",
              "       [404.05385158],\n",
              "       [355.07790097],\n",
              "       [433.88979662],\n",
              "       [489.3395785 ],\n",
              "       [257.12598898],\n",
              "       [336.50081808],\n",
              "       [478.64367125],\n",
              "       [259.65922707],\n",
              "       [445.71157077],\n",
              "       [280.4880813 ],\n",
              "       [484.55457979],\n",
              "       [444.86714914],\n",
              "       [489.3395785 ],\n",
              "       [336.78228482],\n",
              "       [479.7695596 ],\n",
              "       [340.72288335],\n",
              "       [454.43716801],\n",
              "       [469.63660727],\n",
              "       [464.85160856],\n",
              "       [311.7313707 ],\n",
              "       [474.14013924],\n",
              "       [252.34098222],\n",
              "       [346.07082624]])"
            ]
          },
          "metadata": {},
          "execution_count": 45
        }
      ]
    },
    {
      "cell_type": "code",
      "source": [
        "plt.scatter(x=X_test,y=y_test) #Issue, \"module 'matplotlib' has no attribute 'scatter'\" (Solution: Make sure to import pyplot)\n",
        "plt.plot(X_test, y_pred,color='Red', linewidth=4)\n",
        "plt.title(\"Taxes in Boston by Peoples age\")\n",
        "plt.xlabel(\"AGE\")\n",
        "plt.ylabel(\"Tax\")\n",
        "plt.show()"
      ],
      "metadata": {
        "colab": {
          "base_uri": "https://localhost:8080/",
          "height": 295
        },
        "id": "5Qa4i7r0DVRl",
        "outputId": "c10638da-d3a0-4ad0-fbeb-f0689c3e6c86"
      },
      "execution_count": 53,
      "outputs": [
        {
          "output_type": "display_data",
          "data": {
            "text/plain": [
              "<Figure size 432x288 with 1 Axes>"
            ],
            "image/png": "[encoded data removed]"
          },
          "metadata": {
            "needs_background": "light"
          }
        }
      ]
    },
    {
      "cell_type": "markdown",
      "source": [],
      "metadata": {
        "id": "9YDOmVDWMNAO"
      }
    },
    {
      "cell_type": "code",
      "source": [
        "print(\"Mean absolute error (MAE):\", metrics.mean_absolute_error(y_test,y_pred))"
      ],
      "metadata": {
        "id": "GlW4xaJJRsFf",
        "colab": {
          "base_uri": "https://localhost:8080/"
        },
        "outputId": "2f988198-04d0-4ea8-ac5f-7d6fdd560af8"
      },
      "execution_count": null,
      "outputs": [
        {
          "output_type": "stream",
          "name": "stdout",
          "text": [
            "Mean absolute error (MAE): 123.26764060276035\n"
          ]
        }
      ]
    },
    {
      "cell_type": "code",
      "source": [
        "print(\"Mean square error (MSE):\", metrics.mean_squared_error(y_test,y_pred))"
      ],
      "metadata": {
        "colab": {
          "base_uri": "https://localhost:8080/"
        },
        "id": "_n5FJUm-LSAd",
        "outputId": "f375cba7-fbd2-41e9-adc2-bb9d86cd3e23"
      },
      "execution_count": null,
      "outputs": [
        {
          "output_type": "stream",
          "name": "stdout",
          "text": [
            "Mean square error (MSE): 20752.598834648357\n"
          ]
        }
      ]
    },
    {
      "cell_type": "code",
      "source": [
        "print(\"R-squared value of predictions:\",metrics.r2_score(y_test,y_pred))"
      ],
      "metadata": {
        "colab": {
          "base_uri": "https://localhost:8080/"
        },
        "id": "KBjxVU1RLTvL",
        "outputId": "58111694-ac3d-4960-844b-9897a26fc7c1"
      },
      "execution_count": null,
      "outputs": [
        {
          "output_type": "stream",
          "name": "stdout",
          "text": [
            "R-squared value of predictions: 0.24098504215281535\n"
          ]
        }
      ]
    }
  ]
}